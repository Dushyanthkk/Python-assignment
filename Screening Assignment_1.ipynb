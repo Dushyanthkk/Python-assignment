{
 "cells": [
  {
   "cell_type": "markdown",
   "id": "170e249a",
   "metadata": {},
   "source": [
    "### 1."
   ]
  },
  {
   "cell_type": "code",
   "execution_count": 1,
   "id": "fd1d0586",
   "metadata": {},
   "outputs": [],
   "source": [
    "import logging\n",
    "logging.basicConfig(filename = \"error.log\" , level = logging.INFO , format ='%(asctime)s %(levelname)s %(message)s' )"
   ]
  },
  {
   "cell_type": "code",
   "execution_count": 3,
   "id": "31fa0c2a",
   "metadata": {},
   "outputs": [],
   "source": [
    "# Use the below code to create a example file with the required content \n",
    "f= open(\"example.txt\",\"w+\")\n",
    "f.write(\"This is a placement assignment\")\n",
    "f.close()"
   ]
  },
  {
   "cell_type": "code",
   "execution_count": 4,
   "id": "ea3231e6",
   "metadata": {},
   "outputs": [],
   "source": [
    "def replace_content(search_content, replace_content, file_name):\n",
    "    logging.info(\"I am giving the values search_content= %s, replace_content= %s and file_name= %s\" , \n",
    "                 search_content, replace_content, file_name)\n",
    "    try:\n",
    "        with open(file_name,\"r+\") as f: #Opening file in read write mode\n",
    "            File=f.read()\n",
    "            if search_content not in File:\n",
    "                logging.error(search_content + \" is not found in \" + file_name)\n",
    "            else:\n",
    "                File=File.replace(search_content, replace_content)\n",
    "                f.seek(0) # To set the cursor position\n",
    "                f.write(File)\n",
    "                logging.info(\"executed successfully\")\n",
    "                logging.info(search_content + \" is replcaed with \" + replace_content + \" in file \" + file_name)\n",
    "    except Exception as e :\n",
    "            logging.error(\"Errog has happend \")\n",
    "            logging.exception(\"Exception occured \" + str(e))\n",
    "replace_content(\"placement\", \"screening\", \"example.txt\")"
   ]
  },
  {
   "cell_type": "markdown",
   "id": "1381463a",
   "metadata": {},
   "source": [
    "### 2"
   ]
  },
  {
   "cell_type": "code",
   "execution_count": null,
   "id": "c9e5abde",
   "metadata": {},
   "outputs": [],
   "source": []
  }
 ],
 "metadata": {
  "kernelspec": {
   "display_name": "Python 3",
   "language": "python",
   "name": "python3"
  },
  "language_info": {
   "codemirror_mode": {
    "name": "ipython",
    "version": 3
   },
   "file_extension": ".py",
   "mimetype": "text/x-python",
   "name": "python",
   "nbconvert_exporter": "python",
   "pygments_lexer": "ipython3",
   "version": "3.8.8"
  }
 },
 "nbformat": 4,
 "nbformat_minor": 5
}
